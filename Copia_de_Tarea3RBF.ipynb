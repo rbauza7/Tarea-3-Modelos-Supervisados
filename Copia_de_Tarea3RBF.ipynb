{
  "nbformat": 4,
  "nbformat_minor": 0,
  "metadata": {
    "colab": {
      "provenance": [],
      "authorship_tag": "ABX9TyNd4g20ts8j/NsW3RPhy7K2",
      "include_colab_link": true
    },
    "kernelspec": {
      "name": "ir",
      "display_name": "R"
    },
    "language_info": {
      "name": "R"
    }
  },
  "cells": [
    {
      "cell_type": "markdown",
      "metadata": {
        "id": "view-in-github",
        "colab_type": "text"
      },
      "source": [
        "<a href=\"https://colab.research.google.com/github/rbauza7/Tarea-3-Modelos-Supervisados/blob/main/Copia_de_Tarea3RBF.ipynb\" target=\"_parent\"><img src=\"https://colab.research.google.com/assets/colab-badge.svg\" alt=\"Open In Colab\"/></a>"
      ]
    },
    {
      "cell_type": "markdown",
      "source": [
        "**Tarea 3 Modelos Supervisados**\n"
      ],
      "metadata": {
        "id": "QvBfpzwiAiNO"
      }
    },
    {
      "cell_type": "markdown",
      "source": [
        "**Roberto Bauza Fermin CC 0962108650**"
      ],
      "metadata": {
        "id": "reig4CGZArEm"
      }
    },
    {
      "cell_type": "markdown",
      "source": [
        "**Propósito:** Introducir a los estudiantes a los modelos de aprendizaje supervisado para predicción y clasificación."
      ],
      "metadata": {
        "id": "SKa2CDshAbdP"
      }
    },
    {
      "cell_type": "markdown",
      "source": [
        "**Configurar Google Colab para R**"
      ],
      "metadata": {
        "id": "T5q8IpG-BCm-"
      }
    },
    {
      "cell_type": "code",
      "source": [
        "# Instalar R\n",
        "!apt-get install -y r-base\n"
      ],
      "metadata": {
        "colab": {
          "base_uri": "https://localhost:8080/"
        },
        "id": "FIB9q8noaiQp",
        "outputId": "fd0fcfdb-8b5f-42f2-aa43-91943e43f59d"
      },
      "execution_count": null,
      "outputs": [
        {
          "output_type": "stream",
          "name": "stdout",
          "text": [
            "Reading package lists... Done\n",
            "Building dependency tree... Done\n",
            "Reading state information... Done\n",
            "r-base is already the newest version (4.4.2-1.2204.0).\n",
            "0 upgraded, 0 newly installed, 0 to remove and 49 not upgraded.\n"
          ]
        }
      ]
    },
    {
      "cell_type": "code",
      "source": [
        "install.packages(\"caret\")\n",
        "install.packages(\"randomForest\")\n",
        "install.packages(\"e1071\")\n",
        "install.packages(\"ggplot2\")\n"
      ],
      "metadata": {
        "colab": {
          "base_uri": "https://localhost:8080/"
        },
        "id": "QD6EPAabamer",
        "outputId": "9f06afb2-b721-43c0-ba76-176831ff0c9c"
      },
      "execution_count": null,
      "outputs": [
        {
          "output_type": "stream",
          "name": "stderr",
          "text": [
            "Installing package into ‘/usr/local/lib/R/site-library’\n",
            "(as ‘lib’ is unspecified)\n",
            "\n",
            "Installing package into ‘/usr/local/lib/R/site-library’\n",
            "(as ‘lib’ is unspecified)\n",
            "\n",
            "Installing package into ‘/usr/local/lib/R/site-library’\n",
            "(as ‘lib’ is unspecified)\n",
            "\n",
            "Installing package into ‘/usr/local/lib/R/site-library’\n",
            "(as ‘lib’ is unspecified)\n",
            "\n"
          ]
        }
      ]
    },
    {
      "cell_type": "markdown",
      "source": [
        "Descargar de archivo base y exploración de datos"
      ],
      "metadata": {
        "id": "fg3Hri9LfObR"
      }
    },
    {
      "cell_type": "code",
      "source": [
        "# Instalar y cargar librerías necesarias\n",
        "if(!require(\"readr\")) install.packages(\"readr\")\n",
        "if(!require(\"httr\")) install.packages(\"httr\")\n",
        "library(readr)\n",
        "library(httr)\n",
        "\n",
        "# URL del archivo CSV en GitHub\n",
        "url <- \"https://github.com/rbauza7/Tarea-3-Modelos-Supervisados/raw/refs/heads/main/Dataset%20tarea%203%20.csv\"\n",
        "\n",
        "# Nombre del archivo para guardarlo localmente\n",
        "destfile <- \"Dataset_tarea3.csv\"\n",
        "\n",
        "# Descargar el archivo desde GitHub\n",
        "GET(url, write_disk(destfile, overwrite = TRUE))\n",
        "\n",
        "# Verificar si el archivo se descargó correctamente\n",
        "if (file.exists(destfile)) {\n",
        "  cat(\"Archivo descargado correctamente.\\n\")\n",
        "\n",
        "  # Leer el archivo CSV descargado\n",
        "  machine_data <- read_csv(destfile)\n",
        "\n",
        "  # Mostrar un resumen y las primeras filas del archivo\n",
        "  print(head(machine_data))\n",
        "  print(summary(machine_data))\n",
        "  print(str(machine_data))\n",
        "} else {\n",
        "  cat(\"Error: No se pudo descargar el archivo.\\n\")\n",
        "}\n"
      ],
      "metadata": {
        "colab": {
          "base_uri": "https://localhost:8080/",
          "height": 1000
        },
        "id": "zELx6ACgoTeE",
        "outputId": "42dd6d45-cf40-4377-de8b-28982d0e26fe"
      },
      "execution_count": null,
      "outputs": [
        {
          "output_type": "stream",
          "name": "stderr",
          "text": [
            "Loading required package: readr\n",
            "\n"
          ]
        },
        {
          "output_type": "display_data",
          "data": {
            "text/plain": [
              "Response [https://raw.githubusercontent.com/rbauza7/Tarea-3-Modelos-Supervisados/refs/heads/main/Dataset%20tarea%203%20.csv]\n",
              "  Date: 2024-12-28 00:18\n",
              "  Status: 200\n",
              "  Content-Type: text/plain; charset=utf-8\n",
              "  Size: 56.3 kB\n",
              "<ON DISK>  Dataset_tarea3.csvNULL"
            ]
          },
          "metadata": {}
        },
        {
          "output_type": "stream",
          "name": "stdout",
          "text": [
            "Archivo descargado correctamente.\n"
          ]
        },
        {
          "output_type": "stream",
          "name": "stderr",
          "text": [
            "\u001b[1mRows: \u001b[22m\u001b[34m1000\u001b[39m \u001b[1mColumns: \u001b[22m\u001b[34m6\u001b[39m\n",
            "\u001b[36m──\u001b[39m \u001b[1mColumn specification\u001b[22m \u001b[36m────────────────────────────────────────────────────────\u001b[39m\n",
            "\u001b[1mDelimiter:\u001b[22m \",\"\n",
            "\u001b[31mchr\u001b[39m (1): Machine_Type\n",
            "\u001b[32mdbl\u001b[39m (5): Temperature, Vibration, Power_Usage, Humidity, Failure_Risk\n",
            "\n",
            "\u001b[36mℹ\u001b[39m Use `spec()` to retrieve the full column specification for this data.\n",
            "\u001b[36mℹ\u001b[39m Specify the column types or set `show_col_types = FALSE` to quiet this message.\n"
          ]
        },
        {
          "output_type": "stream",
          "name": "stdout",
          "text": [
            "\u001b[90m# A tibble: 6 × 6\u001b[39m\n",
            "  Temperature Vibration Power_Usage Humidity Machine_Type Failure_Risk\n",
            "        \u001b[3m\u001b[90m<dbl>\u001b[39m\u001b[23m     \u001b[3m\u001b[90m<dbl>\u001b[39m\u001b[23m       \u001b[3m\u001b[90m<dbl>\u001b[39m\u001b[23m    \u001b[3m\u001b[90m<dbl>\u001b[39m\u001b[23m \u001b[3m\u001b[90m<chr>\u001b[39m\u001b[23m               \u001b[3m\u001b[90m<dbl>\u001b[39m\u001b[23m\n",
            "\u001b[90m1\u001b[39m        75.0      57.0        8.65     20.5 Mill                    1\n",
            "\u001b[90m2\u001b[39m        68.6      54.6        9.71     25.7 Lathe                   0\n",
            "\u001b[90m3\u001b[39m        76.5      50.3        8.42     27.9 Drill                   1\n",
            "\u001b[90m4\u001b[39m        85.2      46.8        9.38     39.4 Lathe                   1\n",
            "\u001b[90m5\u001b[39m        67.7      53.5        6.21     32.8 Drill                   1\n",
            "\u001b[90m6\u001b[39m        67.7      52.0       10.4      23.3 Drill                   0\n",
            "  Temperature       Vibration      Power_Usage        Humidity    \n",
            " Min.   : 37.59   Min.   :35.30   Min.   : 3.961   Min.   :15.35  \n",
            " 1st Qu.: 63.52   1st Qu.:46.97   1st Qu.: 8.704   1st Qu.:26.31  \n",
            " Median : 70.25   Median :50.32   Median : 9.999   Median :30.00  \n",
            " Mean   : 70.19   Mean   :50.35   Mean   :10.012   Mean   :29.91  \n",
            " 3rd Qu.: 76.48   3rd Qu.:53.64   3rd Qu.:11.322   3rd Qu.:33.33  \n",
            " Max.   :108.53   Max.   :65.97   Max.   :17.852   Max.   :46.22  \n",
            " Machine_Type        Failure_Risk\n",
            " Length:1000        Min.   :0.0  \n",
            " Class :character   1st Qu.:0.0  \n",
            " Mode  :character   Median :0.0  \n",
            "                    Mean   :0.3  \n",
            "                    3rd Qu.:1.0  \n",
            "                    Max.   :1.0  \n",
            "spc_tbl_ [1,000 × 6] (S3: spec_tbl_df/tbl_df/tbl/data.frame)\n",
            " $ Temperature : num [1:1000] 75 68.6 76.5 85.2 67.7 ...\n",
            " $ Vibration   : num [1:1000] 57 54.6 50.3 46.8 53.5 ...\n",
            " $ Power_Usage : num [1:1000] 8.65 9.71 8.42 9.38 6.21 ...\n",
            " $ Humidity    : num [1:1000] 20.5 25.7 27.9 39.4 32.8 ...\n",
            " $ Machine_Type: chr [1:1000] \"Mill\" \"Lathe\" \"Drill\" \"Lathe\" ...\n",
            " $ Failure_Risk: num [1:1000] 1 0 1 1 1 0 0 1 0 1 ...\n",
            " - attr(*, \"spec\")=\n",
            "  .. cols(\n",
            "  ..   Temperature = \u001b[32mcol_double()\u001b[39m,\n",
            "  ..   Vibration = \u001b[32mcol_double()\u001b[39m,\n",
            "  ..   Power_Usage = \u001b[32mcol_double()\u001b[39m,\n",
            "  ..   Humidity = \u001b[32mcol_double()\u001b[39m,\n",
            "  ..   Machine_Type = \u001b[31mcol_character()\u001b[39m,\n",
            "  ..   Failure_Risk = \u001b[32mcol_double()\u001b[39m\n",
            "  .. )\n",
            " - attr(*, \"problems\")=<externalptr> \n",
            "NULL\n"
          ]
        }
      ]
    },
    {
      "cell_type": "markdown",
      "source": [
        "Preprocesamiento de Datos"
      ],
      "metadata": {
        "id": "3iFkBX1kphGB"
      }
    },
    {
      "cell_type": "markdown",
      "source": [
        "Identificar valores faltantes"
      ],
      "metadata": {
        "id": "qQShj3Gip4sD"
      }
    },
    {
      "cell_type": "code",
      "source": [
        "# Verificar valores faltantes por columna\n",
        "cat(\"Valores faltantes por columna:\\n\")\n",
        "colSums(is.na(machine_data))\n"
      ],
      "metadata": {
        "colab": {
          "base_uri": "https://localhost:8080/",
          "height": 53
        },
        "id": "hYWOf477p7fY",
        "outputId": "6ea46c34-5326-41af-c385-edd432296726"
      },
      "execution_count": null,
      "outputs": [
        {
          "output_type": "stream",
          "name": "stdout",
          "text": [
            "Valores faltantes por columna:\n"
          ]
        },
        {
          "output_type": "display_data",
          "data": {
            "text/html": [
              "<style>\n",
              ".dl-inline {width: auto; margin:0; padding: 0}\n",
              ".dl-inline>dt, .dl-inline>dd {float: none; width: auto; display: inline-block}\n",
              ".dl-inline>dt::after {content: \":\\0020\"; padding-right: .5ex}\n",
              ".dl-inline>dt:not(:first-of-type) {padding-left: .5ex}\n",
              "</style><dl class=dl-inline><dt>Temperature</dt><dd>0</dd><dt>Vibration</dt><dd>0</dd><dt>Power_Usage</dt><dd>0</dd><dt>Humidity</dt><dd>0</dd><dt>Machine_Type</dt><dd>0</dd><dt>Failure_Risk</dt><dd>0</dd></dl>\n"
            ],
            "text/markdown": "Temperature\n:   0Vibration\n:   0Power_Usage\n:   0Humidity\n:   0Machine_Type\n:   0Failure_Risk\n:   0\n\n",
            "text/latex": "\\begin{description*}\n\\item[Temperature] 0\n\\item[Vibration] 0\n\\item[Power\\textbackslash{}\\_Usage] 0\n\\item[Humidity] 0\n\\item[Machine\\textbackslash{}\\_Type] 0\n\\item[Failure\\textbackslash{}\\_Risk] 0\n\\end{description*}\n",
            "text/plain": [
              " Temperature    Vibration  Power_Usage     Humidity Machine_Type Failure_Risk \n",
              "           0            0            0            0            0            0 "
            ]
          },
          "metadata": {}
        }
      ]
    },
    {
      "cell_type": "markdown",
      "source": [
        "Los resultados muestran que no hay valores faltantes en el dataset."
      ],
      "metadata": {
        "id": "_eMdS45GqIOh"
      }
    },
    {
      "cell_type": "markdown",
      "source": [
        "Detectar datos atípicos"
      ],
      "metadata": {
        "id": "HK9XtZxdqQMq"
      }
    },
    {
      "cell_type": "code",
      "source": [
        "# Usar boxplots para detectar valores extremos\n",
        "numeric_cols <- sapply(machine_data, is.numeric)  # Seleccionar columnas numéricas\n",
        "boxplot(machine_data[, numeric_cols], main = \"Boxplot de las variables numéricas\", las = 2)\n"
      ],
      "metadata": {
        "colab": {
          "base_uri": "https://localhost:8080/",
          "height": 437
        },
        "id": "tqxChGKuqUYi",
        "outputId": "0ac5cca1-d78d-4ee2-f8dd-a02ae075fffc"
      },
      "execution_count": null,
      "outputs": [
        {
          "output_type": "display_data",
          "data": {
            "text/plain": [
              "Plot with title “Boxplot de las variables numéricas”"
            ],
            "image/png": "[encoded data removed]"
          },
          "metadata": {
            "image/png": {
              "width": 420,
              "height": 420
            }
          }
        }
      ]
    },
    {
      "cell_type": "markdown",
      "source": [
        "Dado que no se conoce la naturaleza de los atípicos se ha resuelto dejarlos y no eliminarlos."
      ],
      "metadata": {
        "id": "SjCFTq3nsNP5"
      }
    },
    {
      "cell_type": "markdown",
      "source": [
        "División de los datos\n",
        "Vamos a dividir los datos en dos conjuntos:\n",
        "\n",
        "Entrenamiento (70%): Para ajustar el modelo.\n",
        "Prueba (30%): Para evaluar el desempeño del modelo en datos no vistos."
      ],
      "metadata": {
        "id": "PaFC0QI2shio"
      }
    },
    {
      "cell_type": "code",
      "source": [
        "# Instalar y cargar librería necesaria\n",
        "if(!require(\"caret\")) install.packages(\"caret\")\n",
        "library(caret)\n",
        "\n",
        "# Configurar la semilla para resultados reproducibles\n",
        "set.seed(123)\n",
        "\n",
        "# Dividir los datos en 70% entrenamiento y 30% prueba\n",
        "trainIndex <- createDataPartition(machine_data$Failure_Risk, p = 0.7, list = FALSE)\n",
        "trainData <- machine_data[trainIndex, ]\n",
        "testData <- machine_data[-trainIndex, ]\n",
        "\n",
        "# Verificar las dimensiones de los conjuntos\n",
        "cat(\"Dimensiones del conjunto de entrenamiento:\\n\")\n",
        "print(dim(trainData))\n",
        "\n",
        "cat(\"\\nDimensiones del conjunto de prueba:\\n\")\n",
        "print(dim(testData))\n"
      ],
      "metadata": {
        "colab": {
          "base_uri": "https://localhost:8080/"
        },
        "id": "Bds2IR1yslJY",
        "outputId": "36af0c79-112b-4070-b27a-c089b7d724ce"
      },
      "execution_count": null,
      "outputs": [
        {
          "output_type": "stream",
          "name": "stderr",
          "text": [
            "Loading required package: caret\n",
            "\n",
            "Loading required package: ggplot2\n",
            "\n",
            "Loading required package: lattice\n",
            "\n",
            "\n",
            "Attaching package: ‘caret’\n",
            "\n",
            "\n",
            "The following object is masked from ‘package:httr’:\n",
            "\n",
            "    progress\n",
            "\n",
            "\n"
          ]
        },
        {
          "output_type": "stream",
          "name": "stdout",
          "text": [
            "Dimensiones del conjunto de entrenamiento:\n",
            "[1] 700   6\n",
            "\n",
            "Dimensiones del conjunto de prueba:\n",
            "[1] 300   6\n"
          ]
        }
      ]
    },
    {
      "cell_type": "markdown",
      "source": [
        "Los datos se han dividido correctamente:\n",
        "Conjunto de entrenamiento: 700 observaciones.\n",
        "Conjunto de prueba: 300 observaciones."
      ],
      "metadata": {
        "id": "ZLY6Rluxsw7_"
      }
    },
    {
      "cell_type": "markdown",
      "source": [
        "Implementación de un modelo supervisado"
      ],
      "metadata": {
        "id": "O8hs548Ls2V2"
      }
    },
    {
      "cell_type": "markdown",
      "source": [
        "Para comenzar, implementaremos un modelo básico de clasificación, como regresión logística, utilizando el conjunto de entrenamiento. Evaluaremos su desempeño en el conjunto de prueba."
      ],
      "metadata": {
        "id": "FOJ4zfmntMqu"
      }
    },
    {
      "cell_type": "code",
      "source": [
        "# Ajustar un modelo de regresión logística\n",
        "logistic_model <- glm(Failure_Risk ~ ., data = trainData, family = \"binomial\")\n",
        "\n",
        "# Resumen del modelo\n",
        "cat(\"Resumen del modelo de regresión logística:\\n\")\n",
        "summary(logistic_model)\n",
        "\n",
        "# Predecir probabilidades en el conjunto de prueba\n",
        "predictions <- predict(logistic_model, newdata = testData, type = \"response\")\n",
        "\n",
        "# Convertir probabilidades en etiquetas (0 o 1)\n",
        "threshold <- 0.5  # Puedes ajustar el umbral\n",
        "predicted_classes <- ifelse(predictions > threshold, 1, 0)\n",
        "\n",
        "# Evaluar el desempeño\n",
        "cat(\"\\nMatriz de confusión:\\n\")\n",
        "confusion_matrix <- table(Predicted = predicted_classes, Actual = testData$Failure_Risk)\n",
        "print(confusion_matrix)\n",
        "\n",
        "# Calcular métricas de desempeño\n",
        "accuracy <- sum(diag(confusion_matrix)) / sum(confusion_matrix)\n",
        "cat(\"\\nPrecisión del modelo:\", round(accuracy, 2), \"\\n\")\n"
      ],
      "metadata": {
        "colab": {
          "base_uri": "https://localhost:8080/",
          "height": 552
        },
        "id": "bmnEK7SstOq_",
        "outputId": "23615d0b-d120-48f3-98f9-4cd743e53de6"
      },
      "execution_count": null,
      "outputs": [
        {
          "output_type": "stream",
          "name": "stdout",
          "text": [
            "Resumen del modelo de regresión logística:\n"
          ]
        },
        {
          "output_type": "display_data",
          "data": {
            "text/plain": [
              "\n",
              "Call:\n",
              "glm(formula = Failure_Risk ~ ., family = \"binomial\", data = trainData)\n",
              "\n",
              "Coefficients:\n",
              "                   Estimate Std. Error z value Pr(>|z|)\n",
              "(Intercept)       -1.769122   1.275960  -1.387    0.166\n",
              "Temperature        0.006494   0.008510   0.763    0.445\n",
              "Vibration          0.008200   0.017203   0.477    0.634\n",
              "Power_Usage        0.015259   0.042194   0.362    0.718\n",
              "Humidity          -0.001784   0.016241  -0.110    0.913\n",
              "Machine_TypeLathe  0.075085   0.198459   0.378    0.705\n",
              "Machine_TypeMill  -0.192389   0.208154  -0.924    0.355\n",
              "\n",
              "(Dispersion parameter for binomial family taken to be 1)\n",
              "\n",
              "    Null deviance: 858.57  on 699  degrees of freedom\n",
              "Residual deviance: 855.71  on 693  degrees of freedom\n",
              "AIC: 869.71\n",
              "\n",
              "Number of Fisher Scoring iterations: 4\n"
            ]
          },
          "metadata": {}
        },
        {
          "output_type": "stream",
          "name": "stdout",
          "text": [
            "\n",
            "Matriz de confusión:\n",
            "         Actual\n",
            "Predicted   0   1\n",
            "        0 212  88\n",
            "\n",
            "Precisión del modelo: 0.71 \n"
          ]
        }
      ]
    },
    {
      "cell_type": "markdown",
      "source": [
        "El modelo de regresión logística logró una precisión del 71%, lo cual es un buen punto inicial, pero muestra debilidades en la clasificación, evidenciadas por 212 falsos positivos en la matriz de confusión. Ninguna de las variables resultó estadísticamente significativa (valores p > 0.05), coo se ven en la columna, lo que sugiere que el modelo no está capturando bien las relaciones entre las variables predictoras y el riesgo de falla. Esto indica la necesidad de explorar modelos más robustos, como Random Forest, que pueden manejar mejor relaciones no lineales y complejas en los datos para mejorar el desempeño."
      ],
      "metadata": {
        "id": "hx0UkHuwtl5_"
      }
    },
    {
      "cell_type": "markdown",
      "source": [
        "Continuemos con el modelo de Random Forest para explorar un enfoque más robusto. Este método puede manejar relaciones no lineales y proporcionar una mejor predicción para los datos."
      ],
      "metadata": {
        "id": "WGUe9SKNxbYc"
      }
    },
    {
      "cell_type": "markdown",
      "source": [
        "**Modelo de Random Forest**"
      ],
      "metadata": {
        "id": "lStbHRF1xfNP"
      }
    },
    {
      "cell_type": "code",
      "source": [
        "# Instalar y cargar librerías necesarias\n",
        "if(!require(\"randomForest\")) install.packages(\"randomForest\")\n",
        "library(randomForest)\n",
        "\n",
        "# Ajustar un modelo de Random Forest\n",
        "set.seed(123)  # Semilla para reproducibilidad\n",
        "rf_model <- randomForest(Failure_Risk ~ ., data = trainData, ntree = 100, importance = TRUE)\n",
        "\n",
        "# Importancia de las variables\n",
        "cat(\"\\nImportancia de las variables:\\n\")\n",
        "print(importance(rf_model))\n",
        "\n",
        "# Predecir en el conjunto de prueba\n",
        "rf_predictions <- predict(rf_model, newdata = testData)\n",
        "\n",
        "# Evaluar el desempeño del modelo\n",
        "cat(\"\\nMatriz de confusión (Random Forest):\\n\")\n",
        "rf_confusion_matrix <- table(Predicted = rf_predictions, Actual = testData$Failure_Risk)\n",
        "print(rf_confusion_matrix)\n",
        "\n",
        "# Calcular precisión del modelo\n",
        "rf_accuracy <- sum(diag(rf_confusion_matrix)) / sum(rf_confusion_matrix)\n",
        "cat(\"\\nPrecisión del modelo (Random Forest):\", round(rf_accuracy, 2), \"\\n\")\n"
      ],
      "metadata": {
        "colab": {
          "base_uri": "https://localhost:8080/"
        },
        "id": "UmFHiC5_xlS5",
        "outputId": "ad34f46e-690e-4b74-e29e-e1be5185678f"
      },
      "execution_count": null,
      "outputs": [
        {
          "output_type": "stream",
          "name": "stderr",
          "text": [
            "Loading required package: randomForest\n",
            "\n",
            "randomForest 4.7-1.2\n",
            "\n",
            "Type rfNews() to see new features/changes/bug fixes.\n",
            "\n",
            "\n",
            "Attaching package: ‘randomForest’\n",
            "\n",
            "\n",
            "The following object is masked from ‘package:ggplot2’:\n",
            "\n",
            "    margin\n",
            "\n",
            "\n",
            "Warning message in randomForest.default(m, y, ...):\n",
            "“The response has five or fewer unique values.  Are you sure you want to do regression?”\n"
          ]
        },
        {
          "output_type": "stream",
          "name": "stdout",
          "text": [
            "\n",
            "Importancia de las variables:\n",
            "                 %IncMSE IncNodePurity\n",
            "Temperature  -2.57605721     18.532654\n",
            "Vibration    -0.06977838     20.506269\n",
            "Power_Usage  -0.42704260     19.413006\n",
            "Humidity      1.07089795     18.392165\n",
            "Machine_Type  2.17258224      4.184541\n",
            "\n",
            "Matriz de confusión (Random Forest):\n",
            "                   Actual\n",
            "Predicted           0 1\n",
            "  0.121101909101823 1 0\n",
            "  0.135349107943268 1 0\n",
            "  0.147310349874855 1 0\n",
            "  0.151019030673814 1 0\n",
            "  0.151751892078909 1 0\n",
            "  0.166343658980884 1 0\n",
            "  0.171096105761864 1 0\n",
            "  0.17321575239257  1 0\n",
            "  0.173672678951686 1 0\n",
            "  0.173992735439136 1 0\n",
            "  0.184970499880588 0 1\n",
            "  0.185645303346798 1 0\n",
            "  0.186042023138686 1 0\n",
            "  0.188055752560381 1 0\n",
            "  0.188425220983298 0 1\n",
            "  0.191024227535607 1 0\n",
            "  0.191744134333095 1 0\n",
            "  0.191859757722698 0 1\n",
            "  0.192740787229038 1 0\n",
            "  0.192776265985187 1 0\n",
            "  0.192980477591049 1 0\n",
            "  0.1939956921834   0 1\n",
            "  0.194978525091278 1 0\n",
            "  0.199130756655891 1 0\n",
            "  0.20104200827446  1 0\n",
            "  0.203836416177599 1 0\n",
            "  0.203997196462907 0 1\n",
            "  0.208200754632114 1 0\n",
            "  0.211752924415882 1 0\n",
            "  0.212255059779881 0 1\n",
            "  0.213044726692798 1 0\n",
            "  0.213107278507402 1 0\n",
            "  0.213385607499917 1 0\n",
            "  0.213418237167667 0 1\n",
            "  0.214038412828301 1 0\n",
            "  0.21716582789327  0 1\n",
            "  0.219968396030526 1 0\n",
            "  0.220758365925535 1 0\n",
            "  0.222130245928983 1 0\n",
            "  0.222138074976469 1 0\n",
            "  0.223879523157041 1 0\n",
            "  0.224286562920865 1 0\n",
            "  0.224547932848979 0 1\n",
            "  0.225105154141643 1 0\n",
            "  0.228104893968847 1 0\n",
            "  0.228667964819313 0 1\n",
            "  0.22874898531918  1 0\n",
            "  0.229491524766228 1 0\n",
            "  0.230241608893448 1 0\n",
            "  0.23030884178669  1 0\n",
            "  0.231017207505964 0 1\n",
            "  0.233469920035579 1 0\n",
            "  0.233504315772133 1 0\n",
            "  0.233631674565331 1 0\n",
            "  0.233861235247589 1 0\n",
            "  0.235636038490414 1 0\n",
            "  0.238982306196693 0 1\n",
            "  0.238986702340078 1 0\n",
            "  0.239394849031886 1 0\n",
            "  0.239667702158882 1 0\n",
            "  0.23970128865056  0 1\n",
            "  0.241754629481584 0 1\n",
            "  0.24294070136523  0 1\n",
            "  0.243489382165001 0 1\n",
            "  0.24413171751404  0 1\n",
            "  0.245813131559773 0 1\n",
            "  0.246168612105891 1 0\n",
            "  0.247194631282204 0 1\n",
            "  0.248159910642072 1 0\n",
            "  0.250819553637365 1 0\n",
            "  0.251877855470989 1 0\n",
            "  0.25236887031481  1 0\n",
            "  0.25346030882857  1 0\n",
            "  0.256020909028918 1 0\n",
            "  0.256841173729822 1 0\n",
            "  0.257080188428099 1 0\n",
            "  0.257114975818032 1 0\n",
            "  0.257445258034619 0 1\n",
            "  0.257874313794432 0 1\n",
            "  0.260654129150093 1 0\n",
            "  0.261090994169351 1 0\n",
            "  0.261323424138091 1 0\n",
            "  0.261376701302437 1 0\n",
            "  0.262886453603529 0 1\n",
            "  0.263608329053402 1 0\n",
            "  0.264466324483641 1 0\n",
            "  0.265685970020668 1 0\n",
            "  0.266324065710739 1 0\n",
            "  0.266763977190676 1 0\n",
            "  0.267344178259574 1 0\n",
            "  0.268235842299728 1 0\n",
            "  0.268808666046715 0 1\n",
            "  0.268977650859887 1 0\n",
            "  0.269701499407671 1 0\n",
            "  0.271376355711081 1 0\n",
            "  0.272159105921447 1 0\n",
            "  0.273444110582242 0 1\n",
            "  0.27380451166974  0 1\n",
            "  0.274088097910356 1 0\n",
            "  0.274112503283465 1 0\n",
            "  0.275350128052493 1 0\n",
            "  0.275995865655004 0 1\n",
            "  0.276016224917787 0 1\n",
            "  0.276135725748451 1 0\n",
            "  0.27703004329497  1 0\n",
            "  0.277228825536815 1 0\n",
            "  0.278213061103452 1 0\n",
            "  0.278946039762362 1 0\n",
            "  0.27897186952075  1 0\n",
            "  0.280588882650508 0 1\n",
            "  0.280871499210988 0 1\n",
            "  0.280915615183029 1 0\n",
            "  0.281008465690352 0 1\n",
            "  0.282334691068004 0 1\n",
            "  0.282479338886918 1 0\n",
            "  0.28261613347023  1 0\n",
            "  0.283163938749203 0 1\n",
            "  0.283317573999798 1 0\n",
            "  0.283898743154766 0 1\n",
            "  0.284178901569472 1 0\n",
            "  0.284903712782794 0 1\n",
            "  0.286966049758622 0 1\n",
            "  0.291236819280951 0 1\n",
            "  0.291526324049885 1 0\n",
            "  0.292881822234513 1 0\n",
            "  0.293230475020294 1 0\n",
            "  0.294453460863445 1 0\n",
            "  0.295055725665296 0 1\n",
            "  0.296244408605127 0 1\n",
            "  0.296420706185203 1 0\n",
            "  0.296502787285427 0 1\n",
            "  0.296857177621815 1 0\n",
            "  0.298058835473909 0 1\n",
            "  0.298347303723817 0 1\n",
            "  0.29845403791559  1 0\n",
            "  0.298893255307818 1 0\n",
            "  0.299697666776182 1 0\n",
            "  0.299754140249112 1 0\n",
            "  0.299860269417812 1 0\n",
            "  0.300190989524187 1 0\n",
            "  0.300957101346012 0 1\n",
            "  0.30184812451969  0 1\n",
            "  0.302164391925341 1 0\n",
            "  0.302885724193148 1 0\n",
            "  0.303404854009191 1 0\n",
            "  0.303472718874267 1 0\n",
            "  0.304155782509846 1 0\n",
            "  0.304379097273504 1 0\n",
            "  0.304480223677161 1 0\n",
            "  0.305660755342283 0 1\n",
            "  0.306669543754172 0 1\n",
            "  0.306702661055042 1 0\n",
            "  0.308362112171378 0 1\n",
            "  0.308919160436473 1 0\n",
            "  0.309093763800443 1 0\n",
            "  0.30988664368563  1 0\n",
            "  0.311189657582462 1 0\n",
            "  0.311196374480146 1 0\n",
            "  0.311619057415703 1 0\n",
            "  0.312280033142497 1 0\n",
            "  0.313330683706969 1 0\n",
            "  0.316161218328594 0 1\n",
            "  0.317141632121636 1 0\n",
            "  0.317407549451004 0 1\n",
            "  0.317770422042863 1 0\n",
            "  0.317826515751042 1 0\n",
            "  0.318247492328729 0 1\n",
            "  0.318459287908062 1 0\n",
            "  0.318622205590727 0 1\n",
            "  0.318683729547742 1 0\n",
            "  0.318823386165823 1 0\n",
            "  0.319917414697016 1 0\n",
            "  0.320821006680298 1 0\n",
            "  0.321785061938562 1 0\n",
            "  0.322604213540667 1 0\n",
            "  0.323097864991209 1 0\n",
            "  0.32382033162447  1 0\n",
            "  0.324038737981743 0 1\n",
            "  0.324066676602587 1 0\n",
            "  0.324161649302687 0 1\n",
            "  0.325868208584084 0 1\n",
            "  0.326275550222796 1 0\n",
            "  0.328698154443512 0 1\n",
            "  0.330901265132375 1 0\n",
            "  0.331369065483344 1 0\n",
            "  0.333477385476785 0 1\n",
            "  0.336641878599534 1 0\n",
            "  0.337083360976638 0 1\n",
            "  0.337286527083609 1 0\n",
            "  0.338141632121636 1 0\n",
            "  0.338696554446036 1 0\n",
            "  0.34002288625821  1 0\n",
            "  0.340637283311898 1 0\n",
            "  0.340678864009345 1 0\n",
            "  0.341296792292586 0 1\n",
            "  0.341503727321391 1 0\n",
            "  0.343471451271054 0 1\n",
            "  0.344352304074866 1 0\n",
            "  0.34535755965122  1 0\n",
            "  0.346203493518479 0 1\n",
            "  0.34652918607854  0 1\n",
            "  0.347036555962793 1 0\n",
            "  0.347221719549899 1 0\n",
            "  0.347911762417014 1 0\n",
            "  0.348423301359345 0 1\n",
            "  0.349164182317637 1 0\n",
            "  0.349661408242289 1 0\n",
            "  0.34975338898222  1 0\n",
            "  0.35236528893083  0 1\n",
            "  0.352708423763709 1 0\n",
            "  0.354066498391954 1 0\n",
            "  0.354584152707022 1 0\n",
            "  0.355102131455177 1 0\n",
            "  0.355817521068308 1 0\n",
            "  0.355875120879453 1 0\n",
            "  0.356223071055469 1 0\n",
            "  0.356894435567157 1 0\n",
            "  0.356936406868504 1 0\n",
            "  0.357348821918689 1 0\n",
            "  0.35807242977045  1 0\n",
            "  0.358103092851187 1 0\n",
            "  0.359880322112969 1 0\n",
            "  0.361875730045356 0 1\n",
            "  0.361934979359623 1 0\n",
            "  0.363261635110281 1 0\n",
            "  0.363629395484775 0 1\n",
            "  0.363703762356547 0 1\n",
            "  0.364331458149603 0 1\n",
            "  0.366411036872147 1 0\n",
            "  0.366710684251525 1 0\n",
            "  0.366741778886666 1 0\n",
            "  0.366944773442262 0 1\n",
            "  0.366949817734822 1 0\n",
            "  0.368530335903371 1 0\n",
            "  0.370169455153693 1 0\n",
            "  0.370208253289694 0 1\n",
            "  0.370744331218749 0 1\n",
            "  0.372126585784838 1 0\n",
            "  0.377565901647351 0 1\n",
            "  0.37889338912278  1 0\n",
            "  0.37987149422998  1 0\n",
            "  0.381278230157961 0 1\n",
            "  0.382681589575269 1 0\n",
            "  0.382894550794926 1 0\n",
            "  0.383004775610207 1 0\n",
            "  0.384874592339059 0 1\n",
            "  0.384999446213183 0 1\n",
            "  0.386451726544671 1 0\n",
            "  0.386569117374387 1 0\n",
            "  0.387017978741911 0 1\n",
            "  0.387145882388096 1 0\n",
            "  0.390075360351781 1 0\n",
            "  0.391294133249675 1 0\n",
            "  0.393430742998484 1 0\n",
            "  0.393681473376621 1 0\n",
            "  0.394110209067463 1 0\n",
            "  0.397755180512758 1 0\n",
            "  0.39834867188515  1 0\n",
            "  0.398438377085567 1 0\n",
            "  0.400246099282282 1 0\n",
            "  0.400447484684719 0 1\n",
            "  0.400497398218734 1 0\n",
            "  0.40132591570152  1 0\n",
            "  0.401481236580484 0 1\n",
            "  0.403613585899419 0 1\n",
            "  0.404548401558114 1 0\n",
            "  0.404770980869575 1 0\n",
            "  0.406156723934995 1 0\n",
            "  0.406686658742988 0 1\n",
            "  0.407815772379319 1 0\n",
            "  0.408364541167631 1 0\n",
            "  0.409472482326974 0 1\n",
            "  0.416511722330059 1 0\n",
            "  0.416657885368933 1 0\n",
            "  0.41750283018538  0 1\n",
            "  0.41935645897266  1 0\n",
            "  0.425653316521486 1 0\n",
            "  0.429543607124307 1 0\n",
            "  0.432784303272675 1 0\n",
            "  0.441565029213413 1 0\n",
            "  0.451278724654695 1 0\n",
            "  0.451279510058204 1 0\n",
            "  0.452129871264644 0 1\n",
            "  0.452770633053919 0 1\n",
            "  0.455856763392591 1 0\n",
            "  0.461005375962051 0 1\n",
            "  0.46188847028977  1 0\n",
            "  0.462330299560574 1 0\n",
            "  0.462845933254366 1 0\n",
            "  0.474810051342582 0 1\n",
            "  0.479888145544676 0 1\n",
            "  0.480156312289552 1 0\n",
            "  0.49267455756919  0 1\n",
            "  0.503819320372866 0 1\n",
            "  0.515379561593474 1 0\n",
            "  0.520858018287011 1 0\n",
            "  0.537946019566965 1 0\n",
            "  0.556643898155192 0 1\n",
            "  0.596818388746987 1 0\n",
            "  0.620740649080517 1 0\n",
            "\n",
            "Precisión del modelo (Random Forest): 0 \n"
          ]
        }
      ]
    },
    {
      "cell_type": "markdown",
      "source": [
        "La salida que muestra una precisión de 0 no es normal. Esto puede deberse a algún problema en la configuración del modelo o en la forma en que se están manejando las predicciones. Vamos a revisar y solucionar"
      ],
      "metadata": {
        "id": "gHUqWVrCx66w"
      }
    },
    {
      "cell_type": "markdown",
      "source": [
        "Asegurar el tipo correcto de la variable objetivo"
      ],
      "metadata": {
        "id": "jirVdZSZx8mw"
      }
    },
    {
      "cell_type": "code",
      "source": [
        "# Convertir la variable objetivo a factor\n",
        "trainData$Failure_Risk <- as.factor(trainData$Failure_Risk)\n",
        "testData$Failure_Risk <- as.factor(testData$Failure_Risk)\n"
      ],
      "metadata": {
        "id": "9b7H3we_yGla"
      },
      "execution_count": null,
      "outputs": []
    },
    {
      "cell_type": "markdown",
      "source": [
        "Reajustar el modelo de Random Forest"
      ],
      "metadata": {
        "id": "dDEhMUYvyKcn"
      }
    },
    {
      "cell_type": "code",
      "source": [
        "# Ajustar un modelo de Random Forest\n",
        "set.seed(123)  # Semilla para reproducibilidad\n",
        "rf_model <- randomForest(Failure_Risk ~ ., data = trainData, ntree = 100, importance = TRUE)\n",
        "\n",
        "# Importancia de las variables\n",
        "cat(\"\\nImportancia de las variables:\\n\")\n",
        "print(importance(rf_model))\n",
        "\n",
        "# Predecir en el conjunto de prueba\n",
        "rf_predictions <- predict(rf_model, newdata = testData)\n",
        "\n",
        "# Evaluar el desempeño del modelo\n",
        "cat(\"\\nMatriz de confusión (Random Forest):\\n\")\n",
        "rf_confusion_matrix <- table(Predicted = rf_predictions, Actual = testData$Failure_Risk)\n",
        "print(rf_confusion_matrix)\n",
        "\n",
        "# Calcular precisión del modelo\n",
        "rf_accuracy <- sum(diag(rf_confusion_matrix)) / sum(rf_confusion_matrix)\n",
        "cat(\"\\nPrecisión del modelo (Random Forest):\", round(rf_accuracy, 2), \"\\n\")\n"
      ],
      "metadata": {
        "colab": {
          "base_uri": "https://localhost:8080/"
        },
        "id": "snLZ5sXsyMUK",
        "outputId": "4298a23f-bcf4-4546-a9ad-71dfd2489796"
      },
      "execution_count": null,
      "outputs": [
        {
          "output_type": "stream",
          "name": "stdout",
          "text": [
            "\n",
            "Importancia de las variables:\n",
            "                      0          1 MeanDecreaseAccuracy MeanDecreaseGini\n",
            "Temperature   0.2348948 -3.3716721           -1.5754688         69.30420\n",
            "Vibration     0.6358740  0.3229384            0.6850968         72.76822\n",
            "Power_Usage  -0.7045356 -3.8433137           -2.6986244         68.97172\n",
            "Humidity     -1.0427350 -0.5785746           -1.1439613         67.83875\n",
            "Machine_Type  0.6424859 -0.1364529            0.4304970         15.12917\n",
            "\n",
            "Matriz de confusión (Random Forest):\n",
            "         Actual\n",
            "Predicted   0   1\n",
            "        0 191  82\n",
            "        1  21   6\n",
            "\n",
            "Precisión del modelo (Random Forest): 0.66 \n"
          ]
        }
      ]
    },
    {
      "cell_type": "markdown",
      "source": [
        "El modelo de Random Forest obtuvo una precisión del 66%, inferior al 71% de la regresión logística, indicando que no logró mejorar el desempeño. La matriz de confusión muestra 191 predicciones correctas para la clase 0 y solo 6 para la clase 1, con 21 falsos negativos y 82 falsos positivos. Las variables más relevantes según la métrica MeanDecreaseGini son Vibration, Power_Usage, y Temperature, lo que sugiere que tienen mayor influencia en las predicciones del modelo. Este resultado resalta la necesidad de ajustar los hiperparámetros del Random Forest o explorar otros algoritmos más efectivos."
      ],
      "metadata": {
        "id": "fWlTcxjjyn5Y"
      }
    },
    {
      "cell_type": "markdown",
      "source": [
        "Optimizar Random Forest"
      ],
      "metadata": {
        "id": "7C4VEyLGyvQY"
      }
    },
    {
      "cell_type": "code",
      "source": [
        "# Ajustar un modelo con más árboles y diferentes mtry\n",
        "set.seed(123)\n",
        "rf_model_optimized <- randomForest(Failure_Risk ~ .,\n",
        "                                   data = trainData,\n",
        "                                   ntree = 500,\n",
        "                                   mtry = 2,\n",
        "                                   importance = TRUE)\n",
        "\n",
        "# Importancia de las variables\n",
        "cat(\"\\nImportancia de las variables (Optimizado):\\n\")\n",
        "print(importance(rf_model_optimized))\n",
        "\n",
        "# Predecir en el conjunto de prueba\n",
        "rf_predictions_optimized <- predict(rf_model_optimized, newdata = testData)\n",
        "\n",
        "# Evaluar el desempeño\n",
        "cat(\"\\nMatriz de confusión (Optimizado):\\n\")\n",
        "rf_confusion_matrix_optimized <- table(Predicted = rf_predictions_optimized, Actual = testData$Failure_Risk)\n",
        "print(rf_confusion_matrix_optimized)\n",
        "\n",
        "# Calcular precisión\n",
        "rf_accuracy_optimized <- sum(diag(rf_confusion_matrix_optimized)) / sum(rf_confusion_matrix_optimized)\n",
        "cat(\"\\nPrecisión del modelo (Optimizado):\", round(rf_accuracy_optimized, 2), \"\\n\")\n"
      ],
      "metadata": {
        "colab": {
          "base_uri": "https://localhost:8080/"
        },
        "id": "m9De2vEDyx0Q",
        "outputId": "2c85ce10-344e-4edb-8b17-3701c4efe1a8"
      },
      "execution_count": null,
      "outputs": [
        {
          "output_type": "stream",
          "name": "stdout",
          "text": [
            "\n",
            "Importancia de las variables (Optimizado):\n",
            "                      0          1 MeanDecreaseAccuracy MeanDecreaseGini\n",
            "Temperature   1.1534188 -5.7832393            -2.057032         68.18875\n",
            "Vibration     3.2591853  2.0208272             3.778972         74.12500\n",
            "Power_Usage  -1.3395755 -3.7794332            -3.164125         68.09352\n",
            "Humidity     -0.4847937 -3.6154944            -2.250532         69.09239\n",
            "Machine_Type  1.8705626  0.3167216             1.699138         14.97900\n",
            "\n",
            "Matriz de confusión (Optimizado):\n",
            "         Actual\n",
            "Predicted   0   1\n",
            "        0 193  81\n",
            "        1  19   7\n",
            "\n",
            "Precisión del modelo (Optimizado): 0.67 \n"
          ]
        }
      ]
    },
    {
      "cell_type": "markdown",
      "source": [
        "El modelo de Random Forest optimizado obtuvo una precisión del 67%, ligeramente superior al modelo inicial. La matriz de confusión muestra 193 predicciones correctas para la clase 0 y 7 para la clase 1, mientras que se registraron 19 falsos negativos y 81 falsos positivos. Aunque el ajuste mejoró levemente el desempeño, la capacidad del modelo para identificar correctamente la clase 1 sigue siendo limitada,"
      ],
      "metadata": {
        "id": "KRQ6m_4hy_-w"
      }
    },
    {
      "cell_type": "markdown",
      "source": [
        "Comencemos con el balance de las clases para mejorar las predicciones de la clase 1. Aplicaré SMOTE."
      ],
      "metadata": {
        "id": "tio-IoM9zLmH"
      }
    },
    {
      "cell_type": "code",
      "source": [
        "# Instalar y cargar librería necesaria\n",
        "if(!require(\"DMwR\")) install.packages(\"DMwR\")\n",
        "library(DMwR)\n",
        "\n",
        "# Aplicar SMOTE para balancear clases en el conjunto de entrenamiento\n",
        "trainData_balanced <- SMOTE(Failure_Risk ~ ., data = trainData, perc.over = 200, perc.under = 150)\n",
        "\n",
        "# Verificar la distribución de clases después del balanceo\n",
        "cat(\"Distribución de clases después de SMOTE:\\n\")\n",
        "print(table(trainData_balanced$Failure_Risk))\n"
      ],
      "metadata": {
        "colab": {
          "base_uri": "https://localhost:8080/",
          "height": 351
        },
        "id": "VcvgnLTJzQvT",
        "outputId": "26032c12-f781-41b4-cce6-4858a4365ea5"
      },
      "execution_count": null,
      "outputs": [
        {
          "output_type": "stream",
          "name": "stderr",
          "text": [
            "Loading required package: DMwR\n",
            "\n",
            "Warning message in library(package, lib.loc = lib.loc, character.only = TRUE, logical.return = TRUE, :\n",
            "“there is no package called ‘DMwR’”\n",
            "Installing package into ‘/usr/local/lib/R/site-library’\n",
            "(as ‘lib’ is unspecified)\n",
            "\n",
            "Warning message:\n",
            "“package ‘DMwR’ is not available for this version of R\n",
            "\n",
            "A version of this package for your version of R might be available elsewhere,\n",
            "see the ideas at\n",
            "https://cran.r-project.org/doc/manuals/r-patched/R-admin.html#Installing-packages”\n"
          ]
        },
        {
          "output_type": "error",
          "ename": "ERROR",
          "evalue": "Error in library(DMwR): there is no package called ‘DMwR’\n",
          "traceback": [
            "Error in library(DMwR): there is no package called ‘DMwR’\nTraceback:\n",
            "1. stop(packageNotFoundError(package, lib.loc, sys.call()))"
          ]
        }
      ]
    },
    {
      "cell_type": "markdown",
      "source": [
        "No esta disponible el DMwR, voy a usar el smote family"
      ],
      "metadata": {
        "id": "Go8Djt7Jzgew"
      }
    },
    {
      "cell_type": "code",
      "source": [
        "# Instalar y cargar la librería smotefamily\n",
        "if(!require(\"smotefamily\")) install.packages(\"smotefamily\")\n",
        "library(smotefamily)\n"
      ],
      "metadata": {
        "colab": {
          "base_uri": "https://localhost:8080/"
        },
        "id": "UU-ZdAPTzxDg",
        "outputId": "2193f61d-f472-41c2-b9d4-a81800e46b38"
      },
      "execution_count": null,
      "outputs": [
        {
          "metadata": {
            "tags": null
          },
          "name": "stderr",
          "output_type": "stream",
          "text": [
            "Loading required package: smotefamily\n",
            "\n",
            "Warning message in library(package, lib.loc = lib.loc, character.only = TRUE, logical.return = TRUE, :\n",
            "“there is no package called ‘smotefamily’”\n",
            "Installing package into ‘/usr/local/lib/R/site-library’\n",
            "(as ‘lib’ is unspecified)\n",
            "\n",
            "also installing the dependencies ‘FNN’, ‘dbscan’, ‘igraph’\n",
            "\n",
            "\n"
          ]
        }
      ]
    },
    {
      "cell_type": "markdown",
      "source": [
        "Filtremos solo las variables numéricas"
      ],
      "metadata": {
        "id": "Gv1TkiSA1gSp"
      }
    },
    {
      "cell_type": "code",
      "source": [
        "# Seleccionar solo las columnas numéricas (excluyendo Failure_Risk)\n",
        "numeric_features <- trainData[ , sapply(trainData, is.numeric)]\n",
        "\n",
        "# Aplicar SMOTE\n",
        "set.seed(123)\n",
        "smote_result <- SMOTE(numeric_features, trainData$Failure_Risk, K = 5, dup_size = 2)\n",
        "\n",
        "# Convertir el resultado a un dataframe\n",
        "trainData_balanced <- smote_result$data\n",
        "colnames(trainData_balanced)[ncol(trainData_balanced)] <- \"Failure_Risk\"\n",
        "trainData_balanced$Failure_Risk <- as.factor(trainData_balanced$Failure_Risk)\n",
        "\n",
        "# Verificar la nueva distribución de clases\n",
        "cat(\"Distribución de clases después del balanceo:\\n\")\n",
        "print(table(trainData_balanced$Failure_Risk))\n"
      ],
      "metadata": {
        "colab": {
          "base_uri": "https://localhost:8080/"
        },
        "id": "obSTPCpk1p7g",
        "outputId": "c3e226a2-a2f8-469c-cd9d-9aed84a8b4b9"
      },
      "execution_count": null,
      "outputs": [
        {
          "output_type": "stream",
          "name": "stdout",
          "text": [
            "Distribución de clases después del balanceo:\n",
            "\n",
            "  0   1 \n",
            "488 636 \n"
          ]
        }
      ]
    },
    {
      "cell_type": "markdown",
      "source": [
        "Ahora las clases están equilibradas, con 488 observaciones para la clase 0 y 636 observaciones para la clase 1. Esto proporciona un mejor punto de partida para ajustar un modelo que pueda predecir con mayor precisión ambas clases"
      ],
      "metadata": {
        "id": "iU-Vx2yx167A"
      }
    },
    {
      "cell_type": "markdown",
      "source": [
        "**Ajustar un modelo con los datos balanceados**"
      ],
      "metadata": {
        "id": "rGhtE-z52BJZ"
      }
    },
    {
      "cell_type": "markdown",
      "source": [
        "Ahora utilizaré el conjunto de datos balanceado (trainData_balanced) para entrenar nuevamente un modelo de Random Forest y evaluar su desempeño"
      ],
      "metadata": {
        "id": "ukch4P1y2Ga4"
      }
    },
    {
      "cell_type": "code",
      "source": [
        "# Ajustar un modelo de Random Forest con datos balanceados\n",
        "set.seed(123)\n",
        "rf_model_balanced <- randomForest(Failure_Risk ~ ., data = trainData_balanced, ntree = 100, importance = TRUE)\n",
        "\n",
        "# Importancia de las variables\n",
        "cat(\"\\nImportancia de las variables:\\n\")\n",
        "print(importance(rf_model_balanced))\n",
        "\n",
        "# Predecir en el conjunto de prueba\n",
        "rf_predictions_balanced <- predict(rf_model_balanced, newdata = testData)\n",
        "\n",
        "# Evaluar el desempeño del modelo\n",
        "cat(\"\\nMatriz de confusión (Datos balanceados):\\n\")\n",
        "rf_confusion_matrix_balanced <- table(Predicted = rf_predictions_balanced, Actual = testData$Failure_Risk)\n",
        "print(rf_confusion_matrix_balanced)\n",
        "\n",
        "# Calcular precisión\n",
        "rf_accuracy_balanced <- sum(diag(rf_confusion_matrix_balanced)) / sum(rf_confusion_matrix_balanced)\n",
        "cat(\"\\nPrecisión del modelo (Datos balanceados):\", round(rf_accuracy_balanced, 2), \"\\n\")\n"
      ],
      "metadata": {
        "colab": {
          "base_uri": "https://localhost:8080/"
        },
        "id": "O8Uoe0wX2Jnr",
        "outputId": "07f45c00-35cd-42e3-9c13-2f65a96da6e2"
      },
      "execution_count": null,
      "outputs": [
        {
          "output_type": "stream",
          "name": "stdout",
          "text": [
            "\n",
            "Importancia de las variables:\n",
            "                   0        1 MeanDecreaseAccuracy MeanDecreaseGini\n",
            "Temperature 3.135400 30.15342             26.25391         142.0931\n",
            "Vibration   2.375022 39.70448             28.33803         144.4550\n",
            "Power_Usage 1.873482 30.44280             26.76643         132.7083\n",
            "Humidity    3.468659 29.36986             23.63776         132.5350\n",
            "\n",
            "Matriz de confusión (Datos balanceados):\n",
            "         Actual\n",
            "Predicted   0   1\n",
            "        0 124  49\n",
            "        1  88  39\n",
            "\n",
            "Precisión del modelo (Datos balanceados): 0.54 \n"
          ]
        }
      ]
    },
    {
      "cell_type": "markdown",
      "source": [
        "El modelo entrenado con los datos balanceados obtuvo una precisión del 54%, que es significativamente más baja que en los intentos anteriores. La matriz de confusión muestra que, aunque el modelo ha mejorado en la detección de la clase 1 (riesgo) al predecir correctamente 39 observaciones, esto se hizo a costa de generar más errores en la clase 0 (no riesgo), con 88 falsos negativos."
      ],
      "metadata": {
        "id": "w1u6Exxt2Y7b"
      }
    },
    {
      "cell_type": "markdown",
      "source": [
        "**Tabla comparativa-CONCLUSIONES**"
      ],
      "metadata": {
        "id": "z4PXhccE36O3"
      }
    },
    {
      "cell_type": "code",
      "source": [
        "# Crear un dataframe con los resultados de los modelos\n",
        "resultados_modelos <- data.frame(\n",
        "  Modelo = c(\"Regresión Logística\", \"Random Forest (Original)\", \"Random Forest (Balanceado)\"),\n",
        "  Precision = c(0.71, 0.66, 0.54),\n",
        "  Falsos_Positivos = c(82, 82, 49),\n",
        "  Falsos_Negativos = c(21, 21, 88)\n",
        ")\n",
        "\n",
        "# Mostrar la tabla comparativa\n",
        "cat(\"Tabla comparativa de los modelos evaluados:\\n\")\n",
        "print(resultados_modelos)\n"
      ],
      "metadata": {
        "colab": {
          "base_uri": "https://localhost:8080/"
        },
        "id": "iLJpEk-f4DJH",
        "outputId": "447aab4e-dfae-41fd-e357-b243d190fabd"
      },
      "execution_count": null,
      "outputs": [
        {
          "output_type": "stream",
          "name": "stdout",
          "text": [
            "Tabla comparativa de los modelos evaluados:\n",
            "                      Modelo Precision Falsos_Positivos Falsos_Negativos\n",
            "1        Regresión Logística      0.71               82               21\n",
            "2   Random Forest (Original)      0.66               82               21\n",
            "3 Random Forest (Balanceado)      0.54               49               88\n"
          ]
        }
      ]
    },
    {
      "cell_type": "markdown",
      "source": [
        "En el análisis realizado se evaluaron tres modelos supervisados para clasificar el riesgo de falla en máquinas industriales. 1) La regresión logística presentó el mejor desempeño global con una precisión del 71%, aunque ninguna de sus variables predictoras resultó estadísticamente significativa, lo que indica limitaciones para capturar relaciones importantes en los datos. Por otro lado, 2) el modelo de Random Forest inicial alcanzó una precisión del 66%, identificando a las variables Vibration, Power_Usage y Temperature como las más relevantes, pero mostrando problemas para predecir correctamente la clase minoritaria. Al aplicar técnicas de balanceo como SMOTE, se mejoró la capacidad del modelo para detectar observaciones de la clase minoritaria, pero a costa de aumentar los falsos positivos y disminuir la precisión global a un 54%. En general, el balanceo permitió observar un cambio en el enfoque del modelo hacia la clase de mayor interés, pero las limitaciones en la clasificación general indican la necesidad de explorar otros algoritmos o métricas como sensibilidad y F1-score para obtener un análisis más completo del desempeño."
      ],
      "metadata": {
        "id": "Lc9nbfdA4enY"
      }
    }
  ]
}