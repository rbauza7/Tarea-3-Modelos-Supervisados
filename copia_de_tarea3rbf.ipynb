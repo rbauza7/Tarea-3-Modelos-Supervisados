{
  "nbformat": 4,
  "nbformat_minor": 0,
  "metadata": {
    "colab": {
      "provenance": [],
      "authorship_tag": "ABX9TyMmufr+fj6Hy6mFl8af+cIY",
      "include_colab_link": true
    },
    "kernelspec": {
      "name": "python3",
      "display_name": "Python 3"
    },
    "language_info": {
      "name": "python"
    }
  },
  "cells": [
    {
      "cell_type": "markdown",
      "metadata": {
        "id": "view-in-github",
        "colab_type": "text"
      },
      "source": [
        "<a href=\"https://colab.research.google.com/github/rbauza7/Tarea-3-Modelos-Supervisados/blob/main/copia_de_tarea3rbf.ipynb\" target=\"_parent\"><img src=\"https://colab.research.google.com/assets/colab-badge.svg\" alt=\"Open In Colab\"/></a>"
      ]
    },
    {
      "cell_type": "markdown",
      "source": [
        "**Tarea 3 Modelos Supervisados**\n"
      ],
      "metadata": {
        "id": "QvBfpzwiAiNO"
      }
    },
    {
      "cell_type": "markdown",
      "source": [
        "**Roberto Bauza Fermin CC 0962108650**"
      ],
      "metadata": {
        "id": "reig4CGZArEm"
      }
    },
    {
      "cell_type": "markdown",
      "source": [
        "**Propósito:** Introducir a los estudiantes a los modelos de aprendizaje supervisado para predicción y clasificación."
      ],
      "metadata": {
        "id": "SKa2CDshAbdP"
      }
    },
    {
      "cell_type": "markdown",
      "source": [
        "**Configurar Google Colab para R**"
      ],
      "metadata": {
        "id": "T5q8IpG-BCm-"
      }
    },
    {
      "cell_type": "code",
      "source": [
        "install.packages(\"caret\")\n",
        "install.packages(\"randomForest\")\n",
        "install.packages(\"e1071\")\n",
        "install.packages(\"ggplot2\")\n"
      ],
      "metadata": {
        "colab": {
          "base_uri": "https://localhost:8080/"
        },
        "id": "oumoY02ZBNfw",
        "outputId": "48971fc2-204d-4c98-ed8a-a29f6d86bed0"
      },
      "execution_count": null,
      "outputs": [
        {
          "output_type": "stream",
          "name": "stderr",
          "text": [
            "Installing package into ‘/usr/local/lib/R/site-library’\n",
            "(as ‘lib’ is unspecified)\n",
            "\n",
            "also installing the dependencies ‘listenv’, ‘parallelly’, ‘future’, ‘globals’, ‘shape’, ‘future.apply’, ‘numDeriv’, ‘progressr’, ‘SQUAREM’, ‘diagram’, ‘lava’, ‘prodlim’, ‘proxy’, ‘iterators’, ‘clock’, ‘gower’, ‘hardhat’, ‘ipred’, ‘timeDate’, ‘e1071’, ‘foreach’, ‘ModelMetrics’, ‘plyr’, ‘pROC’, ‘recipes’, ‘reshape2’\n",
            "\n",
            "\n",
            "Installing package into ‘/usr/local/lib/R/site-library’\n",
            "(as ‘lib’ is unspecified)\n",
            "\n",
            "Installing package into ‘/usr/local/lib/R/site-library’\n",
            "(as ‘lib’ is unspecified)\n",
            "\n",
            "Installing package into ‘/usr/local/lib/R/site-library’\n",
            "(as ‘lib’ is unspecified)\n",
            "\n"
          ]
        }
      ]
    }
  ]
}